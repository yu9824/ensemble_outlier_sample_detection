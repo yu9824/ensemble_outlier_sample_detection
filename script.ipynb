{
 "metadata": {
  "language_info": {
   "codemirror_mode": {
    "name": "ipython",
    "version": 3
   },
   "file_extension": ".py",
   "mimetype": "text/x-python",
   "name": "python",
   "nbconvert_exporter": "python",
   "pygments_lexer": "ipython3",
   "version": "3.7.9-final"
  },
  "orig_nbformat": 2,
  "kernelspec": {
   "name": "python3",
   "display_name": "Python 3.7.9 64-bit ('CP': conda)",
   "metadata": {
    "interpreter": {
     "hash": "4602f1c9ce6f3b27f9d0440327077a5106686290988b13e93fa362ac08a5e082"
    }
   }
  }
 },
 "nbformat": 4,
 "nbformat_minor": 2,
 "cells": [
  {
   "cell_type": "code",
   "execution_count": 93,
   "metadata": {},
   "outputs": [],
   "source": [
    "import pandas as pd\n",
    "import numpy as np\n",
    "from scipy.spatial.distance import cdist\n",
    "from sklearn.model_selection import cross_val_predict, KFold\n",
    "from sklearn.ensemble import RandomForestRegressor"
   ]
  },
  {
   "cell_type": "code",
   "execution_count": 94,
   "metadata": {},
   "outputs": [],
   "source": [
    "example_path = 'https://raw.githubusercontent.com/hkaneko1985/ensemble_outlier_sample_detection/0583863a8381dcde5562197e2398d906c313256f/numerical_simulation_data.csv'\n",
    "df = pd.read_csv(example_path, index_col = 0)\n",
    "X = df.iloc[:, 1:]\n",
    "y = df.iloc[:, 0]"
   ]
  },
  {
   "cell_type": "code",
   "execution_count": 96,
   "metadata": {},
   "outputs": [],
   "source": [
    "kf = KFold(n_splits = 5)\n",
    "for i_train, i_test in kf.split(X, y):\n",
    "    X.iloc[i_train]"
   ]
  },
  {
   "cell_type": "code",
   "execution_count": 101,
   "metadata": {},
   "outputs": [
    {
     "output_type": "execute_result",
     "data": {
      "text/plain": [
       "array([59, 11, 95, 74, 57, 40,  8, 93,  5, 34, 87, 30, 61, 64, 75, 23, 70,\n",
       "       34, 12, 70,  7, 37, 67, 39, 38, 85, 37, 39, 67,  3, 42, 90, 51, 61,\n",
       "       81, 90, 24, 84, 39, 91, 59, 92,  3, 25,  9, 66,  4,  1,  9, 91, 91,\n",
       "        9, 36, 88, 90, 11, 66, 32, 96, 85, 26, 47, 89, 41, 10, 31, 93, 89,\n",
       "       54, 79, 74, 14,  1, 90,  9, 10,  5, 61,  4, 62, 30, 55,  0, 66, 97,\n",
       "       63, 91, 32, 82, 36, 91,  7, 24, 32, 43, 42,  2, 87, 10, 41])"
      ]
     },
     "metadata": {},
     "execution_count": 101
    }
   ],
   "source": [
    "np.random.randint(0, 100, (100))"
   ]
  },
  {
   "cell_type": "code",
   "execution_count": 104,
   "metadata": {},
   "outputs": [
    {
     "output_type": "execute_result",
     "data": {
      "text/plain": [
       "           0         1         2         3         4         5         6  \\\n",
       "0  -0.008829  0.020603  0.012806  0.022196  0.014404  0.000542 -0.017258   \n",
       "1   0.054267 -0.011827  0.024182  0.010591  0.043688  0.028225 -0.026693   \n",
       "2   0.007996  0.085998  0.083851  0.068907  0.046763  0.029664  0.023624   \n",
       "3   0.007808  0.058072  0.071922  0.075210  0.070864  0.041052  0.031952   \n",
       "4   0.025469  0.069069  0.039437  0.035413  0.026697  0.018137  0.024466   \n",
       "..       ...       ...       ...       ...       ...       ...       ...   \n",
       "95  0.943091  0.963324  0.963913  0.934964  0.970763  0.978685  0.974191   \n",
       "96  0.970527  0.978096  0.938993  0.944283  0.933441  0.975828  1.005572   \n",
       "97  1.023366  1.001819  0.975138  0.944514  0.986466  0.979158  0.975585   \n",
       "98  0.977676  0.982450  0.976571  0.984614  0.978016  0.961211  1.014340   \n",
       "99  1.048920  0.999246  0.963342  0.950085  0.970505  1.057547  0.998073   \n",
       "\n",
       "           7         8         9  \n",
       "0   0.035589  0.002711 -0.005959  \n",
       "1   0.002172  0.036835 -0.030305  \n",
       "2   0.026716  0.005059  0.018760  \n",
       "3   0.061823  0.032988 -0.028616  \n",
       "4   0.064571  0.043171  0.033427  \n",
       "..       ...       ...       ...  \n",
       "95  0.940894  0.958329  0.920229  \n",
       "96  0.935919  0.964841  0.994837  \n",
       "97  0.991778  1.022992  1.000944  \n",
       "98  1.006280  0.993815  1.010682  \n",
       "99  1.022156  0.998490  1.018696  \n",
       "\n",
       "[100 rows x 10 columns]"
      ],
      "text/html": "<div>\n<style scoped>\n    .dataframe tbody tr th:only-of-type {\n        vertical-align: middle;\n    }\n\n    .dataframe tbody tr th {\n        vertical-align: top;\n    }\n\n    .dataframe thead th {\n        text-align: right;\n    }\n</style>\n<table border=\"1\" class=\"dataframe\">\n  <thead>\n    <tr style=\"text-align: right;\">\n      <th></th>\n      <th>0</th>\n      <th>1</th>\n      <th>2</th>\n      <th>3</th>\n      <th>4</th>\n      <th>5</th>\n      <th>6</th>\n      <th>7</th>\n      <th>8</th>\n      <th>9</th>\n    </tr>\n  </thead>\n  <tbody>\n    <tr>\n      <th>0</th>\n      <td>-0.008829</td>\n      <td>0.020603</td>\n      <td>0.012806</td>\n      <td>0.022196</td>\n      <td>0.014404</td>\n      <td>0.000542</td>\n      <td>-0.017258</td>\n      <td>0.035589</td>\n      <td>0.002711</td>\n      <td>-0.005959</td>\n    </tr>\n    <tr>\n      <th>1</th>\n      <td>0.054267</td>\n      <td>-0.011827</td>\n      <td>0.024182</td>\n      <td>0.010591</td>\n      <td>0.043688</td>\n      <td>0.028225</td>\n      <td>-0.026693</td>\n      <td>0.002172</td>\n      <td>0.036835</td>\n      <td>-0.030305</td>\n    </tr>\n    <tr>\n      <th>2</th>\n      <td>0.007996</td>\n      <td>0.085998</td>\n      <td>0.083851</td>\n      <td>0.068907</td>\n      <td>0.046763</td>\n      <td>0.029664</td>\n      <td>0.023624</td>\n      <td>0.026716</td>\n      <td>0.005059</td>\n      <td>0.018760</td>\n    </tr>\n    <tr>\n      <th>3</th>\n      <td>0.007808</td>\n      <td>0.058072</td>\n      <td>0.071922</td>\n      <td>0.075210</td>\n      <td>0.070864</td>\n      <td>0.041052</td>\n      <td>0.031952</td>\n      <td>0.061823</td>\n      <td>0.032988</td>\n      <td>-0.028616</td>\n    </tr>\n    <tr>\n      <th>4</th>\n      <td>0.025469</td>\n      <td>0.069069</td>\n      <td>0.039437</td>\n      <td>0.035413</td>\n      <td>0.026697</td>\n      <td>0.018137</td>\n      <td>0.024466</td>\n      <td>0.064571</td>\n      <td>0.043171</td>\n      <td>0.033427</td>\n    </tr>\n    <tr>\n      <th>...</th>\n      <td>...</td>\n      <td>...</td>\n      <td>...</td>\n      <td>...</td>\n      <td>...</td>\n      <td>...</td>\n      <td>...</td>\n      <td>...</td>\n      <td>...</td>\n      <td>...</td>\n    </tr>\n    <tr>\n      <th>95</th>\n      <td>0.943091</td>\n      <td>0.963324</td>\n      <td>0.963913</td>\n      <td>0.934964</td>\n      <td>0.970763</td>\n      <td>0.978685</td>\n      <td>0.974191</td>\n      <td>0.940894</td>\n      <td>0.958329</td>\n      <td>0.920229</td>\n    </tr>\n    <tr>\n      <th>96</th>\n      <td>0.970527</td>\n      <td>0.978096</td>\n      <td>0.938993</td>\n      <td>0.944283</td>\n      <td>0.933441</td>\n      <td>0.975828</td>\n      <td>1.005572</td>\n      <td>0.935919</td>\n      <td>0.964841</td>\n      <td>0.994837</td>\n    </tr>\n    <tr>\n      <th>97</th>\n      <td>1.023366</td>\n      <td>1.001819</td>\n      <td>0.975138</td>\n      <td>0.944514</td>\n      <td>0.986466</td>\n      <td>0.979158</td>\n      <td>0.975585</td>\n      <td>0.991778</td>\n      <td>1.022992</td>\n      <td>1.000944</td>\n    </tr>\n    <tr>\n      <th>98</th>\n      <td>0.977676</td>\n      <td>0.982450</td>\n      <td>0.976571</td>\n      <td>0.984614</td>\n      <td>0.978016</td>\n      <td>0.961211</td>\n      <td>1.014340</td>\n      <td>1.006280</td>\n      <td>0.993815</td>\n      <td>1.010682</td>\n    </tr>\n    <tr>\n      <th>99</th>\n      <td>1.048920</td>\n      <td>0.999246</td>\n      <td>0.963342</td>\n      <td>0.950085</td>\n      <td>0.970505</td>\n      <td>1.057547</td>\n      <td>0.998073</td>\n      <td>1.022156</td>\n      <td>0.998490</td>\n      <td>1.018696</td>\n    </tr>\n  </tbody>\n</table>\n<p>100 rows × 10 columns</p>\n</div>"
     },
     "metadata": {},
     "execution_count": 104
    }
   ],
   "source": [
    "pd.DataFrame(X.values)"
   ]
  },
  {
   "cell_type": "code",
   "execution_count": 108,
   "metadata": {},
   "outputs": [
    {
     "output_type": "stream",
     "name": "stderr",
     "text": [
      "\u001b[32m[I 2021-01-11 01:27:48,589]\u001b[0m A new study created in memory with name: no-name-e764ba03-d09d-4121-94ad-1ae9af981733\u001b[0m\n",
      "\u001b[32m[I 2021-01-11 01:27:48,591]\u001b[0m Trial 0 finished with value: 2.0 and parameters: {'x': 2}. Best is trial 0 with value: 2.0.\u001b[0m\n",
      "\u001b[32m[I 2021-01-11 01:27:48,592]\u001b[0m Trial 1 finished with value: 1.0 and parameters: {'x': 1}. Best is trial 1 with value: 1.0.\u001b[0m\n",
      "\u001b[32m[I 2021-01-11 01:27:48,594]\u001b[0m Trial 2 finished with value: 3.0 and parameters: {'x': 3}. Best is trial 1 with value: 1.0.\u001b[0m\n"
     ]
    }
   ],
   "source": [
    "import optuna\n",
    "def objective(trial):\n",
    "    x = trial.suggest_int('x', 1, 3)\n",
    "    return x\n",
    "study = optuna.create_study()\n",
    "study.optimize(objective, n_trials = 3)"
   ]
  },
  {
   "cell_type": "code",
   "execution_count": 109,
   "metadata": {},
   "outputs": [
    {
     "output_type": "execute_result",
     "data": {
      "text/plain": [
       "0    0\n",
       "1    1\n",
       "2    2\n",
       "dtype: int64"
      ]
     },
     "metadata": {},
     "execution_count": 109
    }
   ],
   "source": [
    "x = pd.Series(np.arange(3))"
   ]
  },
  {
   "cell_type": "code",
   "execution_count": null,
   "metadata": {},
   "outputs": [],
   "source": []
  }
 ]
}