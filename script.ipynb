{
 "metadata": {
  "language_info": {
   "codemirror_mode": {
    "name": "ipython",
    "version": 3
   },
   "file_extension": ".py",
   "mimetype": "text/x-python",
   "name": "python",
   "nbconvert_exporter": "python",
   "pygments_lexer": "ipython3",
   "version": "3.7.9-final"
  },
  "orig_nbformat": 2,
  "kernelspec": {
   "name": "python3",
   "display_name": "Python 3.7.9 64-bit ('CP': conda)",
   "metadata": {
    "interpreter": {
     "hash": "4602f1c9ce6f3b27f9d0440327077a5106686290988b13e93fa362ac08a5e082"
    }
   }
  }
 },
 "nbformat": 4,
 "nbformat_minor": 2,
 "cells": [
  {
   "cell_type": "code",
   "execution_count": 2,
   "metadata": {},
   "outputs": [],
   "source": [
    "import pandas as pd\n",
    "import numpy as np\n",
    "from scipy.spatial.distance import cdist"
   ]
  },
  {
   "cell_type": "code",
   "execution_count": 8,
   "metadata": {},
   "outputs": [],
   "source": [
    "example_path = 'https://raw.githubusercontent.com/hkaneko1985/ensemble_outlier_sample_detection/0583863a8381dcde5562197e2398d906c313256f/numerical_simulation_data.csv'"
   ]
  },
  {
   "cell_type": "code",
   "execution_count": 11,
   "metadata": {},
   "outputs": [
    {
     "output_type": "execute_result",
     "data": {
      "text/plain": [
       "                 y        x1        x2        x3        x4        x5  \\\n",
       "sample_1  4.862230 -0.008829  0.020603  0.012806  0.022196  0.014404   \n",
       "sample_2  4.979903  0.054267 -0.011827  0.024182  0.010591  0.043688   \n",
       "sample_3  5.068076  0.007996  0.085998  0.083851  0.068907  0.046763   \n",
       "sample_4  5.166788  0.007808  0.058072  0.071922  0.075210  0.070864   \n",
       "sample_5  5.374128  0.025469  0.069069  0.039437  0.035413  0.026697   \n",
       "\n",
       "                x6        x7        x8        x9       x10  \n",
       "sample_1  0.000542 -0.017258  0.035589  0.002711 -0.005959  \n",
       "sample_2  0.028225 -0.026693  0.002172  0.036835 -0.030305  \n",
       "sample_3  0.029664  0.023624  0.026716  0.005059  0.018760  \n",
       "sample_4  0.041052  0.031952  0.061823  0.032988 -0.028616  \n",
       "sample_5  0.018137  0.024466  0.064571  0.043171  0.033427  "
      ],
      "text/html": "<div>\n<style scoped>\n    .dataframe tbody tr th:only-of-type {\n        vertical-align: middle;\n    }\n\n    .dataframe tbody tr th {\n        vertical-align: top;\n    }\n\n    .dataframe thead th {\n        text-align: right;\n    }\n</style>\n<table border=\"1\" class=\"dataframe\">\n  <thead>\n    <tr style=\"text-align: right;\">\n      <th></th>\n      <th>y</th>\n      <th>x1</th>\n      <th>x2</th>\n      <th>x3</th>\n      <th>x4</th>\n      <th>x5</th>\n      <th>x6</th>\n      <th>x7</th>\n      <th>x8</th>\n      <th>x9</th>\n      <th>x10</th>\n    </tr>\n  </thead>\n  <tbody>\n    <tr>\n      <th>sample_1</th>\n      <td>4.862230</td>\n      <td>-0.008829</td>\n      <td>0.020603</td>\n      <td>0.012806</td>\n      <td>0.022196</td>\n      <td>0.014404</td>\n      <td>0.000542</td>\n      <td>-0.017258</td>\n      <td>0.035589</td>\n      <td>0.002711</td>\n      <td>-0.005959</td>\n    </tr>\n    <tr>\n      <th>sample_2</th>\n      <td>4.979903</td>\n      <td>0.054267</td>\n      <td>-0.011827</td>\n      <td>0.024182</td>\n      <td>0.010591</td>\n      <td>0.043688</td>\n      <td>0.028225</td>\n      <td>-0.026693</td>\n      <td>0.002172</td>\n      <td>0.036835</td>\n      <td>-0.030305</td>\n    </tr>\n    <tr>\n      <th>sample_3</th>\n      <td>5.068076</td>\n      <td>0.007996</td>\n      <td>0.085998</td>\n      <td>0.083851</td>\n      <td>0.068907</td>\n      <td>0.046763</td>\n      <td>0.029664</td>\n      <td>0.023624</td>\n      <td>0.026716</td>\n      <td>0.005059</td>\n      <td>0.018760</td>\n    </tr>\n    <tr>\n      <th>sample_4</th>\n      <td>5.166788</td>\n      <td>0.007808</td>\n      <td>0.058072</td>\n      <td>0.071922</td>\n      <td>0.075210</td>\n      <td>0.070864</td>\n      <td>0.041052</td>\n      <td>0.031952</td>\n      <td>0.061823</td>\n      <td>0.032988</td>\n      <td>-0.028616</td>\n    </tr>\n    <tr>\n      <th>sample_5</th>\n      <td>5.374128</td>\n      <td>0.025469</td>\n      <td>0.069069</td>\n      <td>0.039437</td>\n      <td>0.035413</td>\n      <td>0.026697</td>\n      <td>0.018137</td>\n      <td>0.024466</td>\n      <td>0.064571</td>\n      <td>0.043171</td>\n      <td>0.033427</td>\n    </tr>\n  </tbody>\n</table>\n</div>"
     },
     "metadata": {},
     "execution_count": 11
    }
   ],
   "source": []
  },
  {
   "cell_type": "code",
   "execution_count": null,
   "metadata": {},
   "outputs": [],
   "source": []
  }
 ]
}